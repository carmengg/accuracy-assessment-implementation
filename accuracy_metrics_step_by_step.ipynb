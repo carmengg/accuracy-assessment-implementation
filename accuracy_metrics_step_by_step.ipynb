{
 "cells": [
  {
   "cell_type": "markdown",
   "metadata": {},
   "source": [
    "## About\n",
    "This is a Python notebook reproducing the example in Olfsson et al.'s *Good practices for estimating area and assessing accuracy of land change* (2014) for calculating the following statistics in a land classification map:\n",
    "- producer's accuracies and user's accuracies by class,\n",
    "- overall accuracy, and\n",
    "- area estimates. \n",
    "\n",
    "Each statistic is accompanied by a 95% confidence interval. \n",
    "\n",
    "## References\n",
    "\n",
    "Pontus Olofsson, Giles M. Foody, Martin Herold, Stephen V. Stehman, Curtis E. Woodcock, Michael A. Wulder, Good practices for estimating area and assessing accuracy of land change, Remote Sensing of Environment,Volume 148, 2014, Pages 42-57, ISSN 0034-4257, https://doi.org/10.1016/j.rse.2014.02.015.  (https://www.sciencedirect.com/science/article/pii/S0034425714000704)\n",
    "\n",
    "Perrot, M., & Duchesnay, É. (2011). Scikit-learn: Machine Learning in Python. Journal of\n",
    "Machine Learning Research, 12, 2825--2830."
   ]
  },
  {
   "cell_type": "code",
   "execution_count": 1,
   "metadata": {
    "tags": []
   },
   "outputs": [],
   "source": [
    "import os\n",
    "import pandas as pd\n",
    "import numpy as np"
   ]
  },
  {
   "cell_type": "markdown",
   "metadata": {},
   "source": [
    "## Data\n",
    "\n",
    "\n",
    "Here we extract data from table 8 in Olfosson et al. (2014) to form the  confusion matrix $n$ such that\n",
    "\n",
    "$n_{i,j}$ = number of points predicted as class $i$, known to be class $j$, \n",
    "\n",
    "which is equivalent to\n",
    "\n",
    "$n_{i,j}$ = number of points that have map class as $i$ and reference class $j$."
   ]
  },
  {
   "cell_type": "code",
   "execution_count": 5,
   "metadata": {},
   "outputs": [
    {
     "name": "stdout",
     "output_type": "stream",
     "text": [
      "Pixel counts per class:\n",
      "class 1:      200,000\n",
      "class 2:      150,000\n",
      "class 3:    3,200,000\n",
      "class 4:    6,450,000\n",
      "[[ 66   0   5   4]\n",
      " [  0  55   8  12]\n",
      " [  1   0 153  11]\n",
      " [  2   1   9 313]]\n"
     ]
    }
   ],
   "source": [
    "# Olofsson et al. Table 8 data \n",
    "\n",
    "# number of classes in the map\n",
    "n_classes = 4\n",
    "\n",
    "# ---------------------------\n",
    "# pixels per class in the map\n",
    "pix_counts = np.array([200000, 150000, 3200000, 6450000])\n",
    "\n",
    "print(\"Pixel counts per class:\")\n",
    "for n_pix, i  in zip(pix_counts, range(n_classes)):\n",
    "    print(f'class {i+1}: {pix_counts[i]:>12,}')\n",
    "print('\\n')\n",
    "\n",
    "# ---------------------------\n",
    "# confusion matrix\n",
    "n = np.array([\n",
    "    [66, 0,  5,   4],\n",
    "    [0,  55, 8,   12],\n",
    "    [1,  0,  153, 11],\n",
    "    [2,  1,  9,   313]])\n",
    "    \n",
    "print('Confusion matrix:\\n',n)"
   ]
  },
  {
   "cell_type": "markdown",
   "metadata": {},
   "source": [
    "### Notation\n",
    "Throughout the following, let \n",
    "- $q$ be the number of map classes, \n",
    "- $p_{ij}$ be the (true) fraction of the map that has map class $i$ and reference class $j$,\n",
    "- $p_{i\\cdot} = \\sum_{j=1}^q p_{ij}$ be the fraction of the map classified as class $i$, and\n",
    "- $p_{\\cdot j} = \\sum_{i=1}^q p_{ij}$ be the fraction of the class that has reference class $j$. \n",
    "\n",
    "### User's Accuracy\n",
    "The user's accuracy of class $i$ is the fraction of the area mapped as class $i$ that has reference class $i$.\n",
    "This can be calculated as (Olofsson et al., eq. 2):\n",
    "$$U_i = \\frac{p_{ii}}{p_{i\\cdot}}.$$\n",
    "This is equivalent to the *precision* of class $i$. For example, when there are two classes (positive and negative) the user's accuracy of the positive class is the same as the precision of the true class, TP/(TP + FP).\n",
    "\n",
    "Let $\\hat{U}_i$ be the estimate of $U_i$'s from the our sampled points. We have that\n",
    "$$\\hat{U}_i = \\frac{\\hat{p}_{ii}}{\\hat{p}_{i\\cdot}},$$\n",
    "where $\\hat{p}_{ij}$ are the estimations of $p_{ij}$ from the sample. \n",
    "For stratified random sampling in which the sampling strata correspond to the map classes we have that\n",
    "$$\\hat{p}_{ij} = W_i \\frac{n_{ij}}{n_{i\\cdot}},$$\n",
    "where\n",
    "- $W_i$ is the fraction of the map's area classified  as class $i$,\n",
    "- $n_{ij}$ is number of points with map class $i$, known to be reference class $j$ (entries in the confusion matrix), and\n",
    "- $n_{i\\cdot}$ is the number of points with map class $i$ (row sums in confusion matrix).\n",
    "\n",
    "Notice that the user's accuracy can be simplifeid to\n",
    "$$\\hat{U}_i = \\frac{n_{ii}}{n_{i\\cdot}}.$$\n",
    "This is the formula implemented in the code.\n",
    "\n",
    "For the user's accuracy of map class $i$, the estimated variance is (Olfosson et al., eq. 6):\n",
    "$$\\hat{V}(\\hat{U}_i) = \\frac{\\hat{U}_i (1-\\hat{U}_i)}{n_{i\\cdot}-1}.$$\n",
    "\n",
    "In this notbeokoj we calculate the user's accuracies first (before the overall accuracy) since these are needed to calculate the approximate variance of the overall accuracy. \n",
    "\n",
    "### Standard Error & Confidence Intervals\n",
    "The square root of the estimated variance results in the standard error of the estimator (Olofsson et al., sec. 4.3). \n",
    "For example, in the case of an estimated user's accuracy $\\hat{U}_i$ we have that $\\hat{S}(\\hat{U}_i) = \\sqrt{\\hat{V}(\\hat{U}_i)}$.\n",
    "\n",
    "The standard error is then used to get confidence intervals for the estimated statistic. The 95% confidence interval is estimated as (Olofsson et al., sec. 5.2.1)\n",
    "$$\\hat{U}_i \\pm 1.96 \\hat{S}(\\hat{U}_i) = \\hat{U}_i \\pm 1.96\\  \\sqrt{\\hat{V}(\\hat{U}_i)}.$$\n",
    "We can replace $\\hat{U}_i$ for the overall accuracy or producer's accuracy estimates to obtain the corresponding variances, standard errors, and confidence intervals. \n",
    "\n",
    "In the follwoing cells we will calculate $\\hat{U}_i$ with a 95% confidence interval."
   ]
  },
  {
   "cell_type": "code",
   "execution_count": 6,
   "metadata": {
    "tags": []
   },
   "outputs": [
    {
     "name": "stdout",
     "output_type": "stream",
     "text": [
      "User's accuracies with 95% confidence interval\n",
      "class 1: 0.88 ± 0.07\n",
      "class 2: 0.73 ± 0.10\n",
      "class 3: 0.93 ± 0.04\n",
      "class 4: 0.96 ± 0.02\n"
     ]
    }
   ],
   "source": [
    "# points in sample that had class i in map (predicted as i, any true class j)\n",
    "n_idot = [sum(n[i,:]) for i in range(n_classes)]\n",
    "\n",
    "# -------------------------------------\n",
    "# estimated user's accuracy\n",
    "U_hat = [n[i,i] / n_idot[i] for i in range(n_classes)]\n",
    "\n",
    "# variance of estimated user's accuracy\n",
    "var_U_hat = [U_hat[i] * (1-U_hat[i])/(n_idot[i]-1) for i in range(n_classes)]\n",
    "\n",
    "# -------------------------------------\n",
    "print(\"User's accuracies with 95% confidence interval:\")\n",
    "for U_hati, var_i, i  in zip(U_hat, var_U_hat, range(n_classes)):\n",
    "    print(f'class {i+1}: {U_hati:.2f} ± {1.96 * np.sqrt(var_i):.2f}')"
   ]
  },
  {
   "cell_type": "markdown",
   "metadata": {},
   "source": [
    "### Overall Accuracy\n",
    "\n",
    "Let $O$ be the (true) accuracy of the map, and $\\hat{O}$ its estimation from the sample. Then, following Olofsson et al., section 4.3, we have that \n",
    "$$\\hat{O} = \\sum_{i=1}^q \\hat{p}_{ii} = \\sum_{i=1}^q W_i \\frac{n_{ii}}{n_{i\\cdot}}.$$\n",
    "Recall that $q$ is the number of classes in the map and $\\hat{p}_{ii}$ is the estimation of $p_{ii}$, the (true) fraction of the area in the map that was classified as class $i$ and has reference class $i$. \n",
    "\n",
    "For overall accuracy, the estimated variance is (Olofsson et al., eq. 5):\n",
    "$$\\hat{V}(\\hat{O}) = \\sum_{i=1}^q \\frac{W_i^2 \\hat{U}_i (1-\\hat{U}_i)}{n_{i\\cdot}-1}.$$\n",
    "\n",
    "In the follwoing cells we will calculate $\\hat{O}$ with a 95% confidence interval."
   ]
  },
  {
   "cell_type": "code",
   "execution_count": 7,
   "metadata": {
    "tags": []
   },
   "outputs": [
    {
     "name": "stdout",
     "output_type": "stream",
     "text": [
      "Overall accuracy with 95% confidence interval\n",
      "0.95 ± 0.02\n"
     ]
    }
   ],
   "source": [
    "# total number of pixels in the map\n",
    "total_pix = sum(pix_counts)\n",
    "\n",
    "# fractions of area in map classified in each class\n",
    "W = [pix_counts[i]/ total_pix for i in range(n_classes)]      \n",
    "\n",
    "# -------------------------------------\n",
    "# estimated overall accuracy\n",
    "O_hat = sum([W[i]*n[i,i]/n_idot[i] for i in range(n_classes)])\n",
    "\n",
    "# -------------------------------------\n",
    "# variance of estimated overall accuracy\n",
    "var_O_hat = sum([ W[i]**2 * U_hat[i] * (1-U_hat[i])/(n_idot[i]-1) for i in range(n_classes)])\n",
    "\n",
    "# -------------------------------------\n",
    "print('Overall accuracy with 95% confidence interval:')\n",
    "print(f'{O_hat:.2f} ± {1.96 * np.sqrt(var_O_hat):.2f}')"
   ]
  },
  {
   "cell_type": "markdown",
   "metadata": {},
   "source": [
    "### Producer's Accuracy\n",
    "The producer's accuracy of class $i$ is the fraction of the (true) area with reference class $i$ that is actually mapped as class $j$. \n",
    "We can calculate it as (Olofsson et al., eq. 3):\n",
    "$$P_j = \\frac{p_{jj}}{p_{\\cdot j}}.$$\n",
    "This is equivalent to the sensitiviy of class $j$. For example, when there are two classes (positive and negative) the producer's accuracy of the positive class is the same as the sensitivy of the true class (TP/(TP + FN)).\n",
    "\n",
    "The estimate of $P_j$ from the sampled points is\n",
    "$$\\hat{P}_j = \\frac{\\hat{p}_{jj}}{\\hat{p}_{\\cdot j}},$$\n",
    "where the $\\hat{p}_{ij}$ are as before.\n",
    "\n",
    "The estimated variance of the estimated producer's accuracy of class $j$ is given by (Olofsson et al., eq. 7):"
   ]
  },
  {
   "cell_type": "markdown",
   "metadata": {},
   "source": [
    "$$\\hat{V}(\\hat{P}_j) = \n",
    "\\frac{1}{\\hat{N}_{\\cdot j}^2} \n",
    "\\left( \n",
    "\\frac{N_{j \\cdot}^2 (1 - \\hat{P}_j)^2 \\hat{U}_j (1-\\hat{U}_j)}{n_{j \\cdot} -1}  \n",
    "+\n",
    "\\hat{P}_j^2\n",
    "\\sum_{i\\neq j}^q \n",
    "N_{i\\cdot}^2 \n",
    "\\frac{n_{ij}}{(n_{i \\cdot} - 1)n_{i \\cdot}} \n",
    "\\left( 1 - \\frac{n_{ij}}{n_{i \\cdot}} \\right)\n",
    "\\right),$$\n",
    "where\n",
    "- $N_{j \\cdot}$ is the number of pixels in the map with map class $j$,\n",
    "- $n_{j\\cdot}$ is the number of sample points with map class $j$, and\n",
    "- $\\hat{N}_{\\cdot j} = \\sum_{i=1}^q \\frac{N_{i\\cdot}}{n_{i\\cdot}}n_{ij}$ is the estimated number of pixels with reference class $j$.\n",
    "\n",
    "In the following cells we calculate $\\hat{P}_j$ with a 95% confidence interval."
   ]
  },
  {
   "cell_type": "code",
   "execution_count": 13,
   "metadata": {
    "tags": []
   },
   "outputs": [
    {
     "name": "stdout",
     "output_type": "stream",
     "text": [
      "Producer's accuracies with 95% confidence interval:\n",
      "class 1: 0.75 ± 0.21\n",
      "class 2: 0.85 ± 0.25\n",
      "class 3: 0.93 ± 0.03\n",
      "class 4: 0.96 ± 0.02\n"
     ]
    }
   ],
   "source": [
    "# estimated fraction of area in class j (Olofsson et al., eq. 9) \n",
    "p_hat_dotj = []\n",
    "for j in range(n_classes):\n",
    "    p_hat_ij = [ W[i]*n[i,j]/n_idot[i] for i in range(n_classes) ]\n",
    "    p_hat_dotj.append(sum(p_hat_ij))  \n",
    "    \n",
    "# -------------------------------------\n",
    "# estimated producer's accuracy \n",
    "P_hat = [ (W[j]*n[j,j]/n_idot[j]) / p_hat_dotj[j] for j in range(n_classes)]\n",
    "\n",
    "# -------------------------------------\n",
    "# variance of estimated producer's accuracy \n",
    "# notice N_jdot is pix_counts[j]\n",
    "N_hat_dotj = []\n",
    "for j in range(n_classes):\n",
    "    summands = [ pix_counts[i] * n[i,j]/n_idot[i] for i in range(n_classes)]\n",
    "    N_hat_dotj.append(sum(summands))\n",
    "\n",
    "summand1 = []\n",
    "for j in range(n_classes):\n",
    "    summand1.append((pix_counts[j]**2) * ((1-P_hat[j])**2) * U_hat[j] * (1-U_hat[j]) / (n_idot[j] - 1))\n",
    "\n",
    "summand2 = []\n",
    "for j in range(n_classes):\n",
    "    inner = []\n",
    "    for i in range(n_classes):\n",
    "        if i!=j:\n",
    "            inner.append( (pix_counts[i]**2) * (n[i,j])/(n_idot[i]) * ( 1 - n[i,j]/n_idot[i])/(n_idot[i]-1)) \n",
    "    summand2.append((P_hat[j]**2) * sum(inner))\n",
    "\n",
    "var_P_hat = [1/(N_hat_dotj[j]**2) *  (summand1[j] + summand2[j]) for j in range(n_classes)]\n",
    "\n",
    "# -------------------------------------\n",
    "print(\"Producer's accuracies with 95% confidence interval:\")\n",
    "for P_hati, var_i, i  in zip(P_hat, var_P_hat, range(n_classes)):\n",
    "    print(f'class {i+1}: {P_hati:.2f} ± {1.96 * np.sqrt(var_i):.2f}')"
   ]
  },
  {
   "cell_type": "markdown",
   "metadata": {},
   "source": [
    "### Area Estimates"
   ]
  },
  {
   "cell_type": "markdown",
   "metadata": {},
   "source": [
    "For stratified random sampling when the map classes are the strata, an estimator of the fraction of area of class $j$ is (Olofsson et al., eq. 9):\n",
    "$$ \\hat{p}_{\\cdot j} = \\sum_{i=1}^q W_i \\frac{n_{ij}}{n_{i\\cdot}}.$$\n",
    "\n",
    "For this estimator of area fraction per class, the standard error is estimated by (Olofsson et al. eq 10):\n",
    "$$S(\\hat{p}_{\\cdot j}) =  \n",
    "\\sqrt{\n",
    "\\sum_{i=1}^q W_i^2 \\frac{ \\frac{n_{ij}}{n_{i\\cdot}} \\left(1 -  \\frac{n_{ij}}{n_{i\\cdot}} \\right)}{n_{i \\cdot}-1}\n",
    "}.$$\n",
    "\n",
    "The estimated area of class $j$ is thus\n",
    "$$\\hat{A}_j = A \\times \\hat{p}_{\\cdot k},$$\n",
    "where $A$ is the total are of the map. \n",
    "The standard error for the area is given by (Olofsson et al. eq 11):\n",
    "$$ S(\\hat{A}_j) = A \\times S(\\hat{p}_{\\cdot j}).$$\n",
    "\n",
    "In the following celss we estimate the area covered by each class together with 95% confidence intervals. \n",
    "Recall we had already estimated the fraction of area per class $\\hat{p_{\\cdot j}}$ for the producer's accuracy.\n"
   ]
  },
  {
   "cell_type": "code",
   "execution_count": 10,
   "metadata": {
    "tags": []
   },
   "outputs": [
    {
     "name": "stdout",
     "output_type": "stream",
     "text": [
      "Percentage area per class with 95% confidence interval\n",
      "class 1: 0.024 ± 0.0068\n",
      "class 2: 0.013 ± 0.0042\n",
      "class 3: 0.318 ± 0.0172\n",
      "class 4: 0.646 ± 0.0181\n"
     ]
    }
   ],
   "source": [
    "# standard error of estimated area per class\n",
    "S_p_hat_dotj = []\n",
    "for j in range(n_classes):\n",
    "    summands = [ (W[i]**2) * (n[i,j]/n_idot[i]) * (1 -  (n[i,j]/n_idot[i]))/ (n_idot[i]-1) \n",
    "                for i in range(n_classes)]\n",
    "    S_p_hat_dotj.append(np.sqrt(sum(summands)))\n",
    "    \n",
    "# -------------------------------------\n",
    "print(\"Percentage area per class with 95% confidence interval:\")\n",
    "for perc_i, err_i, i  in zip(p_hat_dotj, S_p_hat_dotj, range(n_classes)):\n",
    "    print(f'class {i+1}: {perc_i:.3f} ± {1.96 * err_i:.4f}')"
   ]
  },
  {
   "cell_type": "code",
   "execution_count": 12,
   "metadata": {},
   "outputs": [
    {
     "name": "stdout",
     "output_type": "stream",
     "text": [
      "Estimated area per class (ha) with 95% confidence interval\n",
      "class 1: 21,158 ± 6,158\n",
      "class 2: 11,686 ± 3,756\n",
      "class 3: 285,770 ± 15,510\n",
      "class 4: 581,386 ± 16,282\n"
     ]
    }
   ],
   "source": [
    "# area per pixel\n",
    "pixel_area_m2 = 30**2\n",
    "\n",
    "# total map area in hectares (1 m^2 = 1/10^4 ha)\n",
    "map_area_ha = total_pix * pixel_area_m2 / 10**4\n",
    "\n",
    "approx_area_per_class = [map_area_ha * p_hat_dotj[i] for i in range(n_classes)]\n",
    "\n",
    "# standard error area per class\n",
    "SE_area_per_class = [map_area_ha * S_p_hat_dotj[i] for i in range(n_classes)]\n",
    "\n",
    "# -------------------------------------\n",
    "print(\"Estimated area per class (ha) with 95% confidence interval:\")\n",
    "for area_i, err_i, i  in zip(approx_area_per_class, SE_area_per_class, range(n_classes)):\n",
    "    print(f'class {i+1}: {area_i:,.0f} ± {1.96 * err_i:,.0f}')"
   ]
  }
 ],
 "metadata": {
  "kernelspec": {
   "display_name": "Python 3.11.4 ('mpc-env')",
   "language": "python",
   "name": "python3"
  },
  "language_info": {
   "codemirror_mode": {
    "name": "ipython",
    "version": 3
   },
   "file_extension": ".py",
   "mimetype": "text/x-python",
   "name": "python",
   "nbconvert_exporter": "python",
   "pygments_lexer": "ipython3",
   "version": "3.11.4"
  },
  "vscode": {
   "interpreter": {
    "hash": "4d9c35c8115062f8f91024dabb290da02183a26877d6f60ace8c62884141c720"
   }
  }
 },
 "nbformat": 4,
 "nbformat_minor": 4
}
